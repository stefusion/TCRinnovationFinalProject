{
  "nbformat": 4,
  "nbformat_minor": 0,
  "metadata": {
    "colab": {
      "name": "gold_prediction.ipynb",
      "provenance": []
    },
    "kernelspec": {
      "name": "python3",
      "display_name": "Python 3"
    },
    "language_info": {
      "name": "python"
    }
  },
  "cells": [
    {
      "cell_type": "code",
      "metadata": {
        "id": "6QH-WK4Mv8PP"
      },
      "source": [
        ""
      ],
      "execution_count": null,
      "outputs": []
    },
    {
      "cell_type": "code",
      "metadata": {
        "id": "pvx8wkD0wbF6"
      },
      "source": [
        "import numpy as np\n",
        "import pandas as pd\n",
        "import matplotlib.pyplot as plt\n",
        "import seaborn as sns\n",
        "from sklearn.model_selection import train_test_split\n",
        "from sklearn.ensemble import RandomForestRegressor\n",
        "from sklearn import metrics"
      ],
      "execution_count": 1,
      "outputs": []
    },
    {
      "cell_type": "code",
      "metadata": {
        "id": "uW6VloOgw4tu"
      },
      "source": [
        "#loading the csv data to pandas dataframe\n",
        "gold_data= pd.read_csv('/content/gld_price_data.csv')"
      ],
      "execution_count": 2,
      "outputs": []
    },
    {
      "cell_type": "code",
      "metadata": {
        "colab": {
          "base_uri": "https://localhost:8080/",
          "height": 202
        },
        "id": "39q_e6xpw-IE",
        "outputId": "224f0666-56d9-4a25-d1df-5f6894c1d392"
      },
      "source": [
        "#print last 5 rows\n",
        "gold_data.tail()"
      ],
      "execution_count": 3,
      "outputs": [
        {
          "output_type": "execute_result",
          "data": {
            "text/html": [
              "<div>\n",
              "<style scoped>\n",
              "    .dataframe tbody tr th:only-of-type {\n",
              "        vertical-align: middle;\n",
              "    }\n",
              "\n",
              "    .dataframe tbody tr th {\n",
              "        vertical-align: top;\n",
              "    }\n",
              "\n",
              "    .dataframe thead th {\n",
              "        text-align: right;\n",
              "    }\n",
              "</style>\n",
              "<table border=\"1\" class=\"dataframe\">\n",
              "  <thead>\n",
              "    <tr style=\"text-align: right;\">\n",
              "      <th></th>\n",
              "      <th>Date</th>\n",
              "      <th>SPX</th>\n",
              "      <th>GLD</th>\n",
              "      <th>USO</th>\n",
              "      <th>SLV</th>\n",
              "      <th>EUR/USD</th>\n",
              "    </tr>\n",
              "  </thead>\n",
              "  <tbody>\n",
              "    <tr>\n",
              "      <th>2285</th>\n",
              "      <td>5/8/2018</td>\n",
              "      <td>2671.919922</td>\n",
              "      <td>124.589996</td>\n",
              "      <td>14.0600</td>\n",
              "      <td>15.5100</td>\n",
              "      <td>1.186789</td>\n",
              "    </tr>\n",
              "    <tr>\n",
              "      <th>2286</th>\n",
              "      <td>5/9/2018</td>\n",
              "      <td>2697.790039</td>\n",
              "      <td>124.330002</td>\n",
              "      <td>14.3700</td>\n",
              "      <td>15.5300</td>\n",
              "      <td>1.184722</td>\n",
              "    </tr>\n",
              "    <tr>\n",
              "      <th>2287</th>\n",
              "      <td>5/10/2018</td>\n",
              "      <td>2723.070068</td>\n",
              "      <td>125.180000</td>\n",
              "      <td>14.4100</td>\n",
              "      <td>15.7400</td>\n",
              "      <td>1.191753</td>\n",
              "    </tr>\n",
              "    <tr>\n",
              "      <th>2288</th>\n",
              "      <td>5/14/2018</td>\n",
              "      <td>2730.129883</td>\n",
              "      <td>124.489998</td>\n",
              "      <td>14.3800</td>\n",
              "      <td>15.5600</td>\n",
              "      <td>1.193118</td>\n",
              "    </tr>\n",
              "    <tr>\n",
              "      <th>2289</th>\n",
              "      <td>5/16/2018</td>\n",
              "      <td>2725.780029</td>\n",
              "      <td>122.543800</td>\n",
              "      <td>14.4058</td>\n",
              "      <td>15.4542</td>\n",
              "      <td>1.182033</td>\n",
              "    </tr>\n",
              "  </tbody>\n",
              "</table>\n",
              "</div>"
            ],
            "text/plain": [
              "           Date          SPX         GLD      USO      SLV   EUR/USD\n",
              "2285   5/8/2018  2671.919922  124.589996  14.0600  15.5100  1.186789\n",
              "2286   5/9/2018  2697.790039  124.330002  14.3700  15.5300  1.184722\n",
              "2287  5/10/2018  2723.070068  125.180000  14.4100  15.7400  1.191753\n",
              "2288  5/14/2018  2730.129883  124.489998  14.3800  15.5600  1.193118\n",
              "2289  5/16/2018  2725.780029  122.543800  14.4058  15.4542  1.182033"
            ]
          },
          "metadata": {},
          "execution_count": 3
        }
      ]
    },
    {
      "cell_type": "code",
      "metadata": {
        "colab": {
          "base_uri": "https://localhost:8080/",
          "height": 0
        },
        "id": "Vpc5atKwxF6z",
        "outputId": "b3f3a123-5d44-4a4a-8495-6d383be73443"
      },
      "source": [
        "#number of rows and columns\n",
        "gold_data.shape"
      ],
      "execution_count": 4,
      "outputs": [
        {
          "output_type": "execute_result",
          "data": {
            "text/plain": [
              "(2290, 6)"
            ]
          },
          "metadata": {},
          "execution_count": 4
        }
      ]
    },
    {
      "cell_type": "code",
      "metadata": {
        "colab": {
          "base_uri": "https://localhost:8080/",
          "height": 0
        },
        "id": "dEhWaDC_xJbq",
        "outputId": "eedfcf4e-992b-4b7c-d5c8-c7b33bc54563"
      },
      "source": [
        "#getting some basic info about the data\n",
        "gold_data.info()"
      ],
      "execution_count": 5,
      "outputs": [
        {
          "output_type": "stream",
          "name": "stdout",
          "text": [
            "<class 'pandas.core.frame.DataFrame'>\n",
            "RangeIndex: 2290 entries, 0 to 2289\n",
            "Data columns (total 6 columns):\n",
            " #   Column   Non-Null Count  Dtype  \n",
            "---  ------   --------------  -----  \n",
            " 0   Date     2290 non-null   object \n",
            " 1   SPX      2290 non-null   float64\n",
            " 2   GLD      2290 non-null   float64\n",
            " 3   USO      2290 non-null   float64\n",
            " 4   SLV      2290 non-null   float64\n",
            " 5   EUR/USD  2290 non-null   float64\n",
            "dtypes: float64(5), object(1)\n",
            "memory usage: 107.5+ KB\n"
          ]
        }
      ]
    },
    {
      "cell_type": "code",
      "metadata": {
        "colab": {
          "base_uri": "https://localhost:8080/",
          "height": 0
        },
        "id": "IJCvUyP2xK6J",
        "outputId": "7a6a5188-a467-4d4e-8616-eca4343ca4d9"
      },
      "source": [
        "#checking the missung value\n",
        "gold_data.isnull().sum()"
      ],
      "execution_count": 6,
      "outputs": [
        {
          "output_type": "execute_result",
          "data": {
            "text/plain": [
              "Date       0\n",
              "SPX        0\n",
              "GLD        0\n",
              "USO        0\n",
              "SLV        0\n",
              "EUR/USD    0\n",
              "dtype: int64"
            ]
          },
          "metadata": {},
          "execution_count": 6
        }
      ]
    },
    {
      "cell_type": "code",
      "metadata": {
        "colab": {
          "base_uri": "https://localhost:8080/",
          "height": 294
        },
        "id": "Cdy5-V-QxOrM",
        "outputId": "f3ac2174-0af5-4b6a-e300-e108b36828bf"
      },
      "source": [
        "#getting statistical mesures of data\n",
        "gold_data.describe()"
      ],
      "execution_count": 7,
      "outputs": [
        {
          "output_type": "execute_result",
          "data": {
            "text/html": [
              "<div>\n",
              "<style scoped>\n",
              "    .dataframe tbody tr th:only-of-type {\n",
              "        vertical-align: middle;\n",
              "    }\n",
              "\n",
              "    .dataframe tbody tr th {\n",
              "        vertical-align: top;\n",
              "    }\n",
              "\n",
              "    .dataframe thead th {\n",
              "        text-align: right;\n",
              "    }\n",
              "</style>\n",
              "<table border=\"1\" class=\"dataframe\">\n",
              "  <thead>\n",
              "    <tr style=\"text-align: right;\">\n",
              "      <th></th>\n",
              "      <th>SPX</th>\n",
              "      <th>GLD</th>\n",
              "      <th>USO</th>\n",
              "      <th>SLV</th>\n",
              "      <th>EUR/USD</th>\n",
              "    </tr>\n",
              "  </thead>\n",
              "  <tbody>\n",
              "    <tr>\n",
              "      <th>count</th>\n",
              "      <td>2290.000000</td>\n",
              "      <td>2290.000000</td>\n",
              "      <td>2290.000000</td>\n",
              "      <td>2290.000000</td>\n",
              "      <td>2290.000000</td>\n",
              "    </tr>\n",
              "    <tr>\n",
              "      <th>mean</th>\n",
              "      <td>1654.315776</td>\n",
              "      <td>122.732875</td>\n",
              "      <td>31.842221</td>\n",
              "      <td>20.084997</td>\n",
              "      <td>1.283653</td>\n",
              "    </tr>\n",
              "    <tr>\n",
              "      <th>std</th>\n",
              "      <td>519.111540</td>\n",
              "      <td>23.283346</td>\n",
              "      <td>19.523517</td>\n",
              "      <td>7.092566</td>\n",
              "      <td>0.131547</td>\n",
              "    </tr>\n",
              "    <tr>\n",
              "      <th>min</th>\n",
              "      <td>676.530029</td>\n",
              "      <td>70.000000</td>\n",
              "      <td>7.960000</td>\n",
              "      <td>8.850000</td>\n",
              "      <td>1.039047</td>\n",
              "    </tr>\n",
              "    <tr>\n",
              "      <th>25%</th>\n",
              "      <td>1239.874969</td>\n",
              "      <td>109.725000</td>\n",
              "      <td>14.380000</td>\n",
              "      <td>15.570000</td>\n",
              "      <td>1.171313</td>\n",
              "    </tr>\n",
              "    <tr>\n",
              "      <th>50%</th>\n",
              "      <td>1551.434998</td>\n",
              "      <td>120.580002</td>\n",
              "      <td>33.869999</td>\n",
              "      <td>17.268500</td>\n",
              "      <td>1.303296</td>\n",
              "    </tr>\n",
              "    <tr>\n",
              "      <th>75%</th>\n",
              "      <td>2073.010070</td>\n",
              "      <td>132.840004</td>\n",
              "      <td>37.827501</td>\n",
              "      <td>22.882499</td>\n",
              "      <td>1.369971</td>\n",
              "    </tr>\n",
              "    <tr>\n",
              "      <th>max</th>\n",
              "      <td>2872.870117</td>\n",
              "      <td>184.589996</td>\n",
              "      <td>117.480003</td>\n",
              "      <td>47.259998</td>\n",
              "      <td>1.598798</td>\n",
              "    </tr>\n",
              "  </tbody>\n",
              "</table>\n",
              "</div>"
            ],
            "text/plain": [
              "               SPX          GLD          USO          SLV      EUR/USD\n",
              "count  2290.000000  2290.000000  2290.000000  2290.000000  2290.000000\n",
              "mean   1654.315776   122.732875    31.842221    20.084997     1.283653\n",
              "std     519.111540    23.283346    19.523517     7.092566     0.131547\n",
              "min     676.530029    70.000000     7.960000     8.850000     1.039047\n",
              "25%    1239.874969   109.725000    14.380000    15.570000     1.171313\n",
              "50%    1551.434998   120.580002    33.869999    17.268500     1.303296\n",
              "75%    2073.010070   132.840004    37.827501    22.882499     1.369971\n",
              "max    2872.870117   184.589996   117.480003    47.259998     1.598798"
            ]
          },
          "metadata": {},
          "execution_count": 7
        }
      ]
    },
    {
      "cell_type": "code",
      "metadata": {
        "id": "8fbQNMh1xQmS"
      },
      "source": [
        "correlation= gold_data.corr()"
      ],
      "execution_count": 8,
      "outputs": []
    },
    {
      "cell_type": "code",
      "metadata": {
        "colab": {
          "base_uri": "https://localhost:8080/",
          "height": 487
        },
        "id": "MCB4uozUxd4c",
        "outputId": "b741f6c7-fb48-4012-eb52-bf7b1772a8a3"
      },
      "source": [
        "#Constructing a heatmap to understand the correlation\n",
        "plt.figure(figsize= (8,8))\n",
        "sns.heatmap(correlation, cbar=True ,square=True ,fmt='.1f', annot=True ,annot_kws={'size':8},cmap='Blues')"
      ],
      "execution_count": 10,
      "outputs": [
        {
          "output_type": "execute_result",
          "data": {
            "text/plain": [
              "<matplotlib.axes._subplots.AxesSubplot at 0x7f77aa7e0d50>"
            ]
          },
          "metadata": {},
          "execution_count": 10
        },
        {
          "output_type": "display_data",
          "data": {
            "image/png": "[encoded data removed]",
            "text/plain": [
              "<Figure size 576x576 with 2 Axes>"
            ]
          },
          "metadata": {
            "needs_background": "light"
          }
        }
      ]
    },
    {
      "cell_type": "code",
      "metadata": {
        "id": "gywFaiA2x2DL",
        "outputId": "0c8ddc06-33ed-4c29-80f3-8279e2964da9",
        "colab": {
          "base_uri": "https://localhost:8080/",
          "height": 0
        }
      },
      "source": [
        "#correlation values of GLD\n",
        "print(correlation ['GLD'])"
      ],
      "execution_count": 11,
      "outputs": [
        {
          "output_type": "stream",
          "name": "stdout",
          "text": [
            "SPX        0.049345\n",
            "GLD        1.000000\n",
            "USO       -0.186360\n",
            "SLV        0.866632\n",
            "EUR/USD   -0.024375\n",
            "Name: GLD, dtype: float64\n"
          ]
        }
      ]
    },
    {
      "cell_type": "code",
      "metadata": {
        "id": "kvK0qvKYx4wK",
        "outputId": "68e1f854-8a8e-46d0-a929-bf3a2997f957",
        "colab": {
          "base_uri": "https://localhost:8080/",
          "height": 356
        }
      },
      "source": [
        "#checking ditribution of the gold price \n",
        "sns.distplot(gold_data['GLD'],color='green')"
      ],
      "execution_count": 12,
      "outputs": [
        {
          "output_type": "stream",
          "name": "stderr",
          "text": [
            "/usr/local/lib/python3.7/dist-packages/seaborn/distributions.py:2619: FutureWarning: `distplot` is a deprecated function and will be removed in a future version. Please adapt your code to use either `displot` (a figure-level function with similar flexibility) or `histplot` (an axes-level function for histograms).\n",
            "  warnings.warn(msg, FutureWarning)\n"
          ]
        },
        {
          "output_type": "execute_result",
          "data": {
            "text/plain": [
              "<matplotlib.axes._subplots.AxesSubplot at 0x7f77b310af10>"
            ]
          },
          "metadata": {},
          "execution_count": 12
        },
        {
          "output_type": "display_data",
          "data": {
            "image/png": "[encoded data removed]",
            "text/plain": [
              "<Figure size 432x288 with 1 Axes>"
            ]
          },
          "metadata": {
            "needs_background": "light"
          }
        }
      ]
    },
    {
      "cell_type": "code",
      "metadata": {
        "id": "EUouBUYDx77L"
      },
      "source": [
        "\n",
        "X = gold_data.drop(['Date','GLD'],axis =1)\n",
        "Y = gold_data['GLD']"
      ],
      "execution_count": 13,
      "outputs": []
    },
    {
      "cell_type": "code",
      "metadata": {
        "id": "VychRElGyABl",
        "outputId": "6b926bc9-50f5-444c-d2dd-a5307b20d476",
        "colab": {
          "base_uri": "https://localhost:8080/",
          "height": 0
        }
      },
      "source": [
        "print(X)"
      ],
      "execution_count": 14,
      "outputs": [
        {
          "output_type": "stream",
          "name": "stdout",
          "text": [
            "              SPX        USO      SLV   EUR/USD\n",
            "0     1447.160034  78.470001  15.1800  1.471692\n",
            "1     1447.160034  78.370003  15.2850  1.474491\n",
            "2     1411.630005  77.309998  15.1670  1.475492\n",
            "3     1416.180054  75.500000  15.0530  1.468299\n",
            "4     1390.189941  76.059998  15.5900  1.557099\n",
            "...           ...        ...      ...       ...\n",
            "2285  2671.919922  14.060000  15.5100  1.186789\n",
            "2286  2697.790039  14.370000  15.5300  1.184722\n",
            "2287  2723.070068  14.410000  15.7400  1.191753\n",
            "2288  2730.129883  14.380000  15.5600  1.193118\n",
            "2289  2725.780029  14.405800  15.4542  1.182033\n",
            "\n",
            "[2290 rows x 4 columns]\n"
          ]
        }
      ]
    },
    {
      "cell_type": "code",
      "metadata": {
        "id": "2rgebpd4yFEO",
        "outputId": "161d3376-d61d-4beb-beb4-a39f4de9d8d4",
        "colab": {
          "base_uri": "https://localhost:8080/",
          "height": 0
        }
      },
      "source": [
        "print(Y)"
      ],
      "execution_count": 15,
      "outputs": [
        {
          "output_type": "stream",
          "name": "stdout",
          "text": [
            "0        84.860001\n",
            "1        85.570000\n",
            "2        85.129997\n",
            "3        84.769997\n",
            "4        86.779999\n",
            "           ...    \n",
            "2285    124.589996\n",
            "2286    124.330002\n",
            "2287    125.180000\n",
            "2288    124.489998\n",
            "2289    122.543800\n",
            "Name: GLD, Length: 2290, dtype: float64\n"
          ]
        }
      ]
    },
    {
      "cell_type": "code",
      "metadata": {
        "id": "OS80KeIlyGTb"
      },
      "source": [
        "X_train ,X_test, Y_train , Y_test = train_test_split(X, Y, test_size=0.2,random_state=2)"
      ],
      "execution_count": 16,
      "outputs": []
    },
    {
      "cell_type": "code",
      "metadata": {
        "id": "8NHaGuXhyKsO"
      },
      "source": [
        "regression= RandomForestRegressor(n_estimators=100)"
      ],
      "execution_count": 17,
      "outputs": []
    },
    {
      "cell_type": "code",
      "metadata": {
        "id": "tosCARrsyMCr",
        "outputId": "2fd88969-eea4-4d65-e3aa-b3c22f38423c",
        "colab": {
          "base_uri": "https://localhost:8080/",
          "height": 0
        }
      },
      "source": [
        "#training the model\n",
        "regression.fit(X_train ,Y_train)"
      ],
      "execution_count": 18,
      "outputs": [
        {
          "output_type": "execute_result",
          "data": {
            "text/plain": [
              "RandomForestRegressor(bootstrap=True, ccp_alpha=0.0, criterion='mse',\n",
              "                      max_depth=None, max_features='auto', max_leaf_nodes=None,\n",
              "                      max_samples=None, min_impurity_decrease=0.0,\n",
              "                      min_impurity_split=None, min_samples_leaf=1,\n",
              "                      min_samples_split=2, min_weight_fraction_leaf=0.0,\n",
              "                      n_estimators=100, n_jobs=None, oob_score=False,\n",
              "                      random_state=None, verbose=0, warm_start=False)"
            ]
          },
          "metadata": {},
          "execution_count": 18
        }
      ]
    },
    {
      "cell_type": "code",
      "metadata": {
        "id": "rV4XOsqDyOqm"
      },
      "source": [
        "#prediction on Test data\n",
        "test_data_prediction =regression.predict(X_test)\n"
      ],
      "execution_count": 19,
      "outputs": []
    },
    {
      "cell_type": "code",
      "metadata": {
        "id": "GF9A9CNhyReN",
        "outputId": "6df419d6-f4f9-496f-de46-b32a67d3d591",
        "colab": {
          "base_uri": "https://localhost:8080/",
          "height": 0
        }
      },
      "source": [
        "print(test_data_prediction)"
      ],
      "execution_count": 20,
      "outputs": [
        {
          "output_type": "stream",
          "name": "stdout",
          "text": [
            "[168.42979897  82.15159982 115.7986003  127.64260091 120.85450108\n",
            " 154.68829768 150.56409891 126.03890068 117.46239861 126.03760062\n",
            " 116.85320121 172.26670119 141.41899919 168.14569879 115.02260033\n",
            " 117.9055006  136.25720337 170.0495014  159.80300346 156.0218999\n",
            " 155.16890034 124.74629989 176.86539942 157.72060352 125.14990058\n",
            "  93.6414996   77.45040015 121.00140038 119.031399   167.45809937\n",
            "  88.18370089 125.39270024  91.1818009  117.66970016 121.06889892\n",
            " 136.79980093 115.29810113 115.15520055 145.51609935 107.2274011\n",
            " 104.29500264  87.13029776 126.47940067 117.99950008 153.31259892\n",
            " 119.61939972 108.54580023 108.08089842  93.31890073 127.05289773\n",
            "  75.28120011 113.67889935 121.53120031 111.33589941 118.92209884\n",
            " 120.73429937 159.15619942 168.30240127 146.86629666  85.96659877\n",
            "  94.21090012  86.88889881  90.53020023 118.95340071 126.43610075\n",
            " 127.61799979 170.06460017 122.30919944 117.45069896  98.85550025\n",
            " 168.77550215 142.87879858 131.71150229 121.0472022  120.00979996\n",
            " 119.76370061 114.39090182 118.42300082 106.91710127 127.82110093\n",
            " 113.93329986 107.18329992 116.66980061 119.6710987   88.87110072\n",
            "  88.19709862 145.06120221 127.36370008 113.49610052 110.29909828\n",
            " 108.35319906  77.90269911 170.04140182 114.00069893 121.67059906\n",
            " 128.13350168 154.9808983   91.82739936 136.19750021 158.49990338\n",
            " 125.45310053 125.51400056 130.46620153 114.75010144 119.85909985\n",
            "  92.13340009 110.3136988  166.58619962 157.42839892 114.03109934\n",
            " 106.64580138  79.7173     113.34700011 125.87240062 107.12499952\n",
            " 119.60870126 156.04710271 159.9174987  119.9097998  134.4491029\n",
            " 101.44120008 117.63959774 119.30850006 113.02620099 102.85049935\n",
            " 160.25609745  98.87010009 146.56809895 125.35330106 169.81609886\n",
            " 125.84549843 127.34359737 127.36540164 113.87069941 112.64600071\n",
            " 123.70659902 102.13439911  89.26819974 124.44489954 102.20959911\n",
            " 107.360999   113.56410049 117.22280075  99.17349951 121.79490047\n",
            " 163.08029925  87.36239836 106.73119988 117.1961011  127.7061015\n",
            " 124.16160059  80.79559907 120.42890058 157.65829809  88.17989984\n",
            " 110.30819908 118.87209913 172.57199896 103.06469893 105.13770067\n",
            " 122.63260033 158.10749741  87.22359809  93.05650035 113.00040037\n",
            " 177.4098992  114.86289982 119.35749999  94.75310095 125.4517999\n",
            " 166.5594016  114.90440094 116.58110143  88.28759871 148.62630077\n",
            " 120.49659935  89.66229991 112.81720027 117.51300011 118.70730117\n",
            "  88.10619946  94.22000011 117.30710013 118.52230218 120.25230053\n",
            " 126.66919828 121.96219984 148.72330016 165.66640026 118.58429963\n",
            " 120.46440139 150.48240068 118.56189917 172.83369877 105.63429926\n",
            " 104.9698012  148.93860074 113.94140049 124.78760143 147.39359973\n",
            " 119.72260126 115.28060058 112.8302001  113.47960179 141.03840079\n",
            " 117.97999773 102.91160067 115.86180096 103.23220184  98.76650033\n",
            " 117.68470063  90.74129992  91.57230065 153.5239992  102.73819987\n",
            " 154.74230098 114.25390162 139.10650101  89.97569822 115.47439941\n",
            " 114.77040005 122.86830037 121.92050006 165.17340088  92.8684997\n",
            " 134.67340101 121.30759919 120.86300066 104.49290038 141.72350303\n",
            " 121.63179937 116.65190029 113.41170131 126.8624981  122.90849925\n",
            " 125.77609908 121.22110018  86.91289885 132.88800136 144.14620175\n",
            "  92.69259947 159.33969981 158.69890316 126.55779867 165.06879899\n",
            " 108.98449939 109.38270097 103.7153986   94.44110072 127.68970271\n",
            " 107.2285003  162.47099982 121.72910048 131.88199964 130.39820137\n",
            " 160.52309976  90.15049865 176.49960119 127.90390028 126.67209854\n",
            "  86.25449905 124.49299918 150.3492974   89.73500002 107.07449981\n",
            " 108.9740998   83.57529917 136.04219951 155.09720199 139.60040378\n",
            "  73.99090036 152.07560091 125.91469959 126.8337996  127.38819838\n",
            " 108.42519937 156.33670039 114.41050148 116.86480149 125.22249953\n",
            " 154.23370145 121.38240001 156.33059927  93.04370073 125.56770123\n",
            " 125.46240033  87.76150028  92.01519913 126.32469907 128.35160347\n",
            " 112.93350015 117.64419757 121.16820014 127.01959796 119.00010124\n",
            " 136.33130114  93.93679942 119.85290013 113.20510099  94.23329944\n",
            " 109.07370019  86.6255993  109.5831994   89.61949992  92.32790038\n",
            " 131.8115033  162.36719998  89.13960043 119.4805008  133.42140198\n",
            " 124.02690019 128.28180169 101.9928987   89.11579875 131.57380032\n",
            " 119.38070036 108.77720005 169.87410113 115.34690055  86.54669908\n",
            " 118.7551007   90.83489928 161.80530003 116.63370027 121.35979995\n",
            " 160.22379816 120.13129946 112.87309925 108.50339888 126.51790023\n",
            "  76.05130051 102.99259982 127.62490257 121.74049932  92.5806002\n",
            " 132.08970123 118.33550087 116.22969938 154.57100273 159.26220064\n",
            " 110.14610032 151.9371984  119.19780087 160.89810109 118.43310024\n",
            " 158.19859838 115.1169991  116.51500028 148.04299959 114.73100085\n",
            " 125.63859862 166.34989869 117.67230013 125.21169907 153.40790393\n",
            " 153.46230219 132.25570038 114.7695005  121.24100196 125.1029005\n",
            "  89.6327008  123.10150031 154.88330126 111.59700032 106.77189983\n",
            " 161.91750068 118.63949982 165.72399947 134.0288013  114.90549962\n",
            " 153.05969875 168.53489993 114.46120058 114.1205014  157.61259967\n",
            "  85.10849903 127.0712004  127.98050065 128.93249937 124.07070048\n",
            " 123.98610082  90.86980066 152.90089978  97.22929973 138.14389959\n",
            "  89.19609913 107.15890012 115.05300044 112.5111012  124.36639952\n",
            "  91.32169884 125.40630134 162.3925987  119.95459876 164.90840128\n",
            " 126.70699808 112.39080011 127.55779956  95.41419941  91.18009965\n",
            " 103.348999   120.99460006  82.91069905 126.34780009 160.83750542\n",
            " 117.3753009  118.40319965 120.32290002 122.54399971 120.1817012\n",
            " 121.35660013 118.10310046 107.25759954 147.94479956 126.40689818\n",
            " 115.8636007   73.88140015 127.74100083 154.46370047 122.95910006\n",
            " 125.59370041  88.79420051 102.78909854 124.1874008  120.30330051\n",
            "  73.27230067 151.85980012 121.34760047 104.66300011  86.27229768\n",
            " 114.96409922 172.25979847 119.80970059 159.53959762 113.18779961\n",
            " 121.15670019 118.82710106  95.98519977 119.00970012 125.89299991\n",
            " 118.55569962  96.41430093 153.98240193 121.97980012 147.3600001\n",
            " 159.09320178 113.58769988 122.47929943 148.75379829 127.1951003\n",
            " 165.89599995 134.82110082 119.9763     167.36859838 108.46219887\n",
            " 121.79139832 137.67740114 106.79529905]\n"
          ]
        }
      ]
    },
    {
      "cell_type": "code",
      "metadata": {
        "id": "jvZAkkAYyYAz"
      },
      "source": [
        "\n",
        "Y_test =list(Y_test)"
      ],
      "execution_count": 22,
      "outputs": []
    },
    {
      "cell_type": "code",
      "metadata": {
        "id": "7IDCfVxSybcd",
        "outputId": "c7b533dc-0893-4050-892c-dc0898b672f5",
        "colab": {
          "base_uri": "https://localhost:8080/",
          "height": 294
        }
      },
      "source": [
        "plt.plot(Y_test ,color='blue',label='Actual_value')\n",
        "plt.plot(test_data_prediction, color='green', label='Predicted value')\n",
        "plt.title('Actual Price vs predicted price')\n",
        "plt.xlabel('Number of values')\n",
        "plt.ylabel('GLD price')\n",
        "plt.legend()\n",
        "plt.show()"
      ],
      "execution_count": 24,
      "outputs": [
        {
          "output_type": "display_data",
          "data": {
            "image/png": "[encoded data removed]",
            "text/plain": [
              "<Figure size 432x288 with 1 Axes>"
            ]
          },
          "metadata": {
            "needs_background": "light"
          }
        }
      ]
    },
    {
      "cell_type": "code",
      "metadata": {
        "id": "ezxy6D-hyUTc",
        "outputId": "56c0bc02-36de-4fbe-dbab-c45edf479145",
        "colab": {
          "base_uri": "https://localhost:8080/",
          "height": 0
        }
      },
      "source": [
        "#R suqared error\n",
        "error_score = metrics.r2_score(Y_test, test_data_prediction)\n",
        "print('R squared error:' ,error_score)"
      ],
      "execution_count": 21,
      "outputs": [
        {
          "output_type": "stream",
          "name": "stdout",
          "text": [
            "R squared error: 0.989543567594718\n"
          ]
        }
      ]
    },
    {
      "cell_type": "code",
      "metadata": {
        "id": "XmCW-XHNxxHy"
      },
      "source": [
        ""
      ],
      "execution_count": null,
      "outputs": []
    }
  ]
}